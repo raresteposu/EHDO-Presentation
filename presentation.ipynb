{
 "cells": [
  {
   "cell_type": "code",
   "execution_count": null,
   "metadata": {},
   "outputs": [],
   "source": [
    "# Python data\n",
    " \n",
    "import json\n",
    "import presentation_functions as functions\n",
    "\n",
    "building = 'ac_istzustand'\n",
    "size = 'dez'\n",
    "available_devices = [\"HPC\",\"HP\", \"BOI\", \"EB\", \"CHP\", \"BCHP\", \"PV\", \"STC\", \"TES\"]\n",
    "\n",
    "# Load the data\n",
    "with open(f'../results/{building}.json') as f:\n",
    "    results = json.load(f)\n",
    "\n",
    "\n"
   ]
  },
  {
   "cell_type": "markdown",
   "metadata": {},
   "source": [
    "\n",
    "### Verfügbare Anlagen & Technologien\n",
    "\n",
    "Für das Optimierungsproblem standen die folgenden Systeme zur Verfügung:\n",
    "\n",
    "|Abkürzung|Näme (EN)|Name (DE)|Kosten (€/kW)|\n",
    "|---|---|---|:---|\n",
    "|HP|Heat Pump|Wärmepumpe|$1358$|\n",
    "|BOI|Boiler|Boiler|$290$|\n",
    "|EB|Electric Boiler|Elektroboiler|$188$|\n",
    "|CHP|Combined Heat and Power|Heizkräftwerk|$3744$|\n",
    "|BCHP|Bio Combined Heat and Power|Bio-Heizkräftwerk|$5000$|\n",
    "|PV|Photovoltaic|Photovoltaik|$1314$|\n",
    "|STC|Solar Thermal Collector|Solarthermie|$696$|\n",
    "|TES|Thermal Energy Storage|Wärmespeicher|$9200 \\ \\text{m}^3$/€ |\n",
    "\n",
    "\n",
    "\n",
    "### Technische Beschränkungen\n",
    "\n",
    "Die folgenden technischen Beschränkungen sind zu beachten:\n",
    "1. Jedes Gebäude hat eine andere Dachfläche (und daher muss die kombinierte PV- und STC-Größe kleiner sein als diese)\n",
    "   1. Aachener Grundvermögen Gebäude: $152  \\ \\text{m}^2$\n",
    "   2. Privates Mehrfamilienhaus: $123 \\ \\text{m}^2$\n",
    "   3. Hein-Nixdorf-Berufskolleg: $1600 \\ \\text{m}^2$\n",
    "   4. Sparkasse Essen: $0 \\ \\text{m}^2$\n"
   ]
  },
  {
   "cell_type": "markdown",
   "metadata": {},
   "source": [
    "### Jährliche Bedarfe"
   ]
  },
  {
   "cell_type": "code",
   "execution_count": null,
   "metadata": {},
   "outputs": [],
   "source": [
    "# 📊 Führen die Python-Zelle aus, um die Diagramme zu sehen\n",
    "\n",
    "functions.jährliche_bedarfe(results)\n"
   ]
  },
  {
   "cell_type": "markdown",
   "metadata": {},
   "source": [
    "## Anlagen\n",
    "\n",
    "### Kapazität\n",
    "\n",
    "Alle Anlagen haben eine bestimmte **Kapazität**, die im Prinzip die Größe des Anlages angibt. Das Gerät kann pro Stunde nicht mehr Energie erzeugen als seine Kapazität beträgt. Für das **Netz** ist die Kapazität die maximale Energie, die in einer Stunde übertragen wird (import oder export)."
   ]
  },
  {
   "cell_type": "code",
   "execution_count": null,
   "metadata": {},
   "outputs": [],
   "source": [
    "# 📊 (Kapazität) Führen die Python-Zelle aus, um die Diagramme zu sehen\n",
    "\n",
    "functions.plot_kapazitaten(results)"
   ]
  },
  {
   "cell_type": "code",
   "execution_count": null,
   "metadata": {},
   "outputs": [],
   "source": [
    "# (Andere daten, Volum, Fläche, Curtailed & Mean COP) Führen die Python-Zelle aus, um die Diagramme zu sehen\n",
    "\n",
    "for device in results[\"Devices\"].keys():\n",
    "    if device in [\"TES\", \"BAT\", \"CTES\"]:\n",
    "        print(f'{device} Volum: {results[\"Devices\"][device][\"Volume\"]} m3')\n",
    "    elif device in [\"STC\", \"PV\"]:\n",
    "        print(f'{device} Fläche: {results[\"Devices\"][device][\"Area\"]} m2')\n",
    "    if device in [\"STC\", \"WAT\", \"PV\", \"WT\"]:\n",
    "        print(f'{device} curtailed: {results[\"Devices\"][device][\"Curtailed\"]} kWh')\n",
    "    if device in [\"HP\", \"GHP\"]:\n",
    "        print(f'{device} mean COP: {results[\"Devices\"][device][\"Mean COP\"]}')"
   ]
  },
  {
   "cell_type": "markdown",
   "metadata": {},
   "source": [
    "### Stündliche Ergebnisse\n",
    "\n",
    "Im folgenden Diagramm sind die stündlichen Daten für jedes Gerät zu sehen (inkl. Netz import und export).\n",
    "\n",
    "Die folgenden Daten sind zu sehen:\n",
    "- Empfangene/erzeugte Energie: z.B., wie viel Wärme ein HP in einer Stunde erzeugt hat und wie viel Strom es empfangen hat. Die empfangende Energie stammt aus dem gemeinsamen Strompool (also dem Netz und den Stromerzeugerengeräte).\n",
    "- Ladezustand (für BAT oder TES)\n",
    "- Ladung/Entladung (für BAT oder TES)\n",
    "\n",
    "Wählen Sie die Parameter und dann beide Zellen (zuerst die Parameterzelle und dann die Diagrammzelle)\n",
    "- `devices`: Ein oder mehrere Anlagen (um Netzdaten zu sehen: \"import\" oder \"export\" als Anlagename)\n",
    "- `types`: Ein oder mehrere von \"Generated\", \"Received\", \"State of Charge\" oder \"Charged/Discharged\"\n",
    "- `sub_types`: Ein oder mehrere von \"Heat\", \"Electricity\" oder \"Cooling\"\n",
    "- `hour_range`: Für welchen Stundenbereich der Medianwert zu nehmen ist. \n",
    "  - z.B nimmt [4,10] den Medianwert der Daten von 04:00 bis 10:00\n",
    "- `day_rage`: Für welchen Tagesbereich das Diagramm erstellt werden soll.\n",
    "  - z.B. zeigt [0,10] die Mittelwerte vom 1. Januar bis zum 11. Januar"
   ]
  },
  {
   "cell_type": "code",
   "execution_count": null,
   "metadata": {},
   "outputs": [],
   "source": [
    "# Parametern\n",
    "\n",
    "devices = [\"PV\", \"import\"]\n",
    "types = [\"Generated\", \"Received\"]\n",
    "sub_types = [\"Heat\", \"Electricity\"]\n",
    "hour_range = [8, 16]\n",
    "day_range = [120, 150]"
   ]
  },
  {
   "cell_type": "code",
   "execution_count": null,
   "metadata": {},
   "outputs": [],
   "source": [
    "# 📊 (Mittelwert) Führen die Python-Zelle aus, um die Diagramme zu sehen\n",
    "\n",
    "functions.plot_mittelwert(available_devices,building, devices, types, sub_types, hour_range, day_range)\n"
   ]
  },
  {
   "cell_type": "markdown",
   "metadata": {},
   "source": [
    "### Erzeugte Energie\n",
    "\n",
    "Die erzeugte Energie (Strom/Wärme oder Kühlung) ist die gesamte vom Gerät erzeugte Energie, einschließlich der Energie, die in die Versorgung anderer Geräte fließt.\n",
    "\n",
    "Die Einfuhr aus dem Netz bedeutet also nicht, dass sie direkt vom Endverbraucher (d. h. den dort lebenden Personen) genutzt wird, sondern sie kann auch von anderen Anlagen verwendet werden (z. B. von HP zur Wärmeerzeugung).\n",
    "\n",
    "Alle Energiearten (Wärme, Kälte oder Strom) kommen zunächst in einen gemeinsamen Pool, und von dort wird berechnet, wie viel davon in die Analgen fließt, wobei immer genug übrig bleibt, um den Bedarf zu decken."
   ]
  },
  {
   "cell_type": "code",
   "execution_count": null,
   "metadata": {
    "notebookRunGroups": {
     "groupValue": "1"
    }
   },
   "outputs": [],
   "source": [
    "# 📊 Führen Sie die Python-Zelle aus, um das Ergebnis zu sehen\n",
    "\n",
    "functions.plot_erzeugte_energie(results)"
   ]
  },
  {
   "cell_type": "markdown",
   "metadata": {},
   "source": [
    "## Kosten"
   ]
  },
  {
   "cell_type": "code",
   "execution_count": null,
   "metadata": {},
   "outputs": [],
   "source": [
    "# (Gesamtkosten) Führen Sie die Python-Zelle aus, um das Ergebnis zu sehen\n",
    "\n",
    "total_payed = + results[\"Total Costs\"][\"Total device costs\"][\"Total investment costs\"] + results[\"Total Costs\"][\"Total device costs\"][\"Total O&M costs\"] + results[\"Total Costs\"][\"Total device costs\"][\"Total demand related costs\"] + results[\"Total Costs\"][\"CO2 Tax\"] + results[\"Total Costs\"][\"Supply costs\"][\"Electricity\"][\"Supply costs\"] + results[\"Total Costs\"][\"Supply costs\"][\"Electricity\"][\"Cap costs\"] + results[\"Total Costs\"][\"Supply costs\"][\"Gas\"][\"Supply costs\"] + results[\"Total Costs\"][\"Supply costs\"][\"Gas\"][\"Cap costs\"] + results[\"Total Costs\"][\"Supply costs\"][\"Heat\"][\"Supply costs\"] + results[\"Total Costs\"][\"Supply costs\"][\"Heat\"][\"Cap costs\"] + results[\"Total Costs\"][\"Supply costs\"][\"Biomass\"] + results[\"Total Costs\"][\"Supply costs\"][\"Waste\"] + results[\"Total Costs\"][\"Supply costs\"][\"Hydrogen\"]\n",
    "\n",
    "\n",
    "total_revenue = results[\"Total Costs\"][\"Supply costs\"][\"Electricity\"][\"Feed-in revenues\"] + results[\"Total Costs\"][\"Supply costs\"][\"Gas\"][\"Feed-in revenues\"] + results[\"Total Costs\"][\"Supply costs\"][\"Heat\"][\"Feed-in revenues\"]\n",
    "\n",
    "total_annualized_cost = total_payed - total_revenue\n",
    "\n",
    "print(f\"(=) Gesamtkosten (annualized) : {total_annualized_cost} €/a\")   \n",
    "print(f\"(+) Insgesamt gezahlt         : {total_payed} €/a\")\n",
    "print(f\"(-) Einahmen (feed-in)        : {total_revenue} €/a\")\n"
   ]
  },
  {
   "cell_type": "markdown",
   "metadata": {},
   "source": [
    "### Kosten nach Gerät"
   ]
  },
  {
   "cell_type": "code",
   "execution_count": null,
   "metadata": {},
   "outputs": [],
   "source": [
    "# 📊 (Anlagekosten) Führen Sie die Python-Zelle aus, um das Ergebnis zu sehen\n",
    "\n",
    "functions.kosten_nach_gerät(results)"
   ]
  },
  {
   "cell_type": "markdown",
   "metadata": {},
   "source": [
    "### Kosten nach Art"
   ]
  },
  {
   "cell_type": "code",
   "execution_count": null,
   "metadata": {},
   "outputs": [],
   "source": [
    "# 📊 (Kosten nach Art) Führen Sie die Python-Zelle aus, um das Ergebnis zu sehen\n",
    "\n",
    "functions.kosten_art(results)"
   ]
  }
 ],
 "metadata": {
  "kernelspec": {
   "display_name": ".venv",
   "language": "python",
   "name": "python3"
  },
  "language_info": {
   "codemirror_mode": {
    "name": "ipython",
    "version": 3
   },
   "file_extension": ".py",
   "mimetype": "text/x-python",
   "name": "python",
   "nbconvert_exporter": "python",
   "pygments_lexer": "ipython3",
   "version": "3.12.2"
  }
 },
 "nbformat": 4,
 "nbformat_minor": 2
}
